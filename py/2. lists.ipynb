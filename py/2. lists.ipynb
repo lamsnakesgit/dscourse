{
 "cells": [
  {
   "cell_type": "code",
   "execution_count": null,
   "metadata": {},
   "outputs": [],
   "source": [
    "list = [int(num) for num in input().split()]\n",
    "#print(list[0], \"f\")\n",
    "for i in range(len(list)):\n",
    "    #print(i,\"=i\")\n",
    "    if i % 2:\n",
    "        print(list[i])"
   ]
  },
  {
   "cell_type": "code",
   "execution_count": null,
   "metadata": {},
   "outputs": [],
   "source": [
    "#  lists even indexeds\n",
    "list = [int(num) for num in input().split()]\n",
    "#print(list[0], \"f\")\n",
    "for i in range(len(list)):\n",
    "    #print(i,\"=i\")\n",
    "    if i % 2 == 0:\n",
    "        print(list[i], end=\" \")"
   ]
  },
  {
   "cell_type": "code",
   "execution_count": null,
   "metadata": {},
   "outputs": [],
   "source": [
    "#  even elements; iterate correctly in list of elements?\n",
    "list = [int(num) for num in input().split()]\n",
    "#print(list[0], \"f\")\n",
    "for i in list:\n",
    "    #print(i,\"=i\")\n",
    "    if i % 2 == 0:\n",
    "        print(i, end=\" \")\n",
    "    i += 1 #how w out"
   ]
  },
  {
   "cell_type": "code",
   "execution_count": null,
   "metadata": {},
   "outputs": [],
   "source": [
    "# bigger than previous\n",
    "list = [int(num) for num in input().split()]\n",
    "#print(list[0], \"f\")\n",
    "pr = list[0]\n",
    "for i in range(len(list)):\n",
    "    #print(i,\"=i\")\n",
    "    if i > 0 and list[i] > list[i-1]:\n",
    "        print(list[i], end=\" \")"
   ]
  },
  {
   "cell_type": "code",
   "execution_count": null,
   "metadata": {},
   "outputs": [],
   "source": [
    "# neigh of same sign\n",
    "#what about nuklls?\n",
    "# create list of 2;\n",
    "list = [int(num) for num in input().split()]\n",
    "two = [0] * 2\n",
    "#print(list[0], \"f\")\n",
    "pr = list[0]\n",
    "for i in range(len(list)):\n",
    "    #print(i,\"=i\")\n",
    "    if (i > 0 and ((list[i] > 0 and list[i-1] > 0) or (list[i] < 0 and list[i-1] < 0))):\n",
    "        print(i, \"i|\",list[i-1], list[i], end=\" \\n\")\n",
    "        break"
   ]
  },
  {
   "cell_type": "code",
   "execution_count": null,
   "metadata": {},
   "outputs": [],
   "source": [
    "# rert\n",
    "a = int(input())\n",
    "b = int(input())\n",
    "\n"
   ]
  },
  {
   "cell_type": "code",
   "execution_count": null,
   "metadata": {},
   "outputs": [],
   "source": [
    "print(list(range(a,b+1)))"
   ]
  },
  {
   "cell_type": "code",
   "execution_count": null,
   "metadata": {},
   "outputs": [],
   "source": []
  }
 ],
 "metadata": {
  "kernelspec": {
   "display_name": "Python 3",
   "language": "python",
   "name": "python3"
  },
  "language_info": {
   "codemirror_mode": {
    "name": "ipython",
    "version": 3
   },
   "file_extension": ".py",
   "mimetype": "text/x-python",
   "name": "python",
   "nbconvert_exporter": "python",
   "pygments_lexer": "ipython3",
   "version": "3.8.3"
  }
 },
 "nbformat": 4,
 "nbformat_minor": 4
}

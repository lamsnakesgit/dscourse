{
 "cells": [
  {
   "cell_type": "code",
   "execution_count": null,
   "metadata": {},
   "outputs": [],
   "source": [
    "list = [int(num) for num in input().split()]\n",
    "#print(list[0], \"f\")\n",
    "for i in range(len(list)):\n",
    "    #print(i,\"=i\")\n",
    "    if i % 2:\n",
    "        print(list[i])"
   ]
  },
  {
   "cell_type": "code",
   "execution_count": null,
   "metadata": {},
   "outputs": [],
   "source": [
    "#  lists even indexeds\n",
    "list = [int(num) for num in input().split()]\n",
    "#print(list[0], \"f\")\n",
    "for i in range(len(list)):\n",
    "    #print(i,\"=i\")\n",
    "    if i % 2 == 0:\n",
    "        print(list[i], end=\" \")"
   ]
  },
  {
   "cell_type": "code",
   "execution_count": null,
   "metadata": {},
   "outputs": [],
   "source": [
    "#  even elements; iterate correctly in list of elements?\n",
    "list = [int(num) for num in input().split()]\n",
    "#print(list[0], \"f\")\n",
    "for i in list:\n",
    "    #print(i,\"=i\")\n",
    "    if i % 2 == 0:\n",
    "        print(i, end=\" \")\n",
    "    i += 1 #how w out"
   ]
  },
  {
   "cell_type": "code",
   "execution_count": null,
   "metadata": {},
   "outputs": [],
   "source": [
    "# bigger than previous\n",
    "list = [int(num) for num in input().split()]\n",
    "#print(list[0], \"f\")\n",
    "pr = list[0]\n",
    "for i in range(len(list)):\n",
    "    #print(i,\"=i\")\n",
    "    if i > 0 and list[i] > list[i-1]:\n",
    "        print(list[i], end=\" \")"
   ]
  },
  {
   "cell_type": "code",
   "execution_count": null,
   "metadata": {},
   "outputs": [],
   "source": [
    "# neigh of same sign\n",
    "#what about nuklls?\n",
    "# create list of 2;\n",
    "list = [int(num) for num in input().split()]\n",
    "two = [0] * 2\n",
    "#print(list[0], \"f\")\n",
    "pr = list[0]\n",
    "for i in range(len(list)):\n",
    "    #print(i,\"=i\")\n",
    "    if (i > 0 and ((list[i] > 0 and list[i-1] > 0) or (list[i] < 0 and list[i-1] < 0))):\n",
    "        print(i, \"i|\",list[i-1], list[i], end=\" \\n\")\n",
    "        break"
   ]
  },
  {
   "cell_type": "code",
   "execution_count": null,
   "metadata": {},
   "outputs": [],
   "source": [
    "# rert\n",
    "a = int(input())\n",
    "b = int(input())\n",
    "\n"
   ]
  },
  {
   "cell_type": "code",
   "execution_count": null,
   "metadata": {},
   "outputs": [],
   "source": [
    "print(list(range(a,b+1)))"
   ]
  },
  {
   "cell_type": "code",
   "execution_count": null,
   "metadata": {},
   "outputs": [],
   "source": [
    "# bigger than neigbours\n",
    "list = [int(num) for num in input().split()]\n",
    "leng = len(list)\n",
    "c = 0\n",
    "for i in range(leng):\n",
    "    if i == leng - 1:\n",
    "        break\n",
    "    if i > 0:\n",
    "        if list[i] > list[i-1] and list[i] > list[i+1]:\n",
    "            c += 1\n",
    "print(c)\n",
    "\n",
    "#doom R py pie)[] g des where? ig n  nn "
   ]
  },
  {
   "cell_type": "code",
   "execution_count": null,
   "metadata": {},
   "outputs": [],
   "source": [
    "# biggest element\n",
    "list = [int(num) for num in input().split()]\n",
    "leng = len(list)\n",
    "ind = 0\n",
    "max = list[0] #what if null elements?\n",
    "for i in range(leng):\n",
    "    if list[i] > max:\n",
    "        max = list[i]\n",
    "        ind = i\n",
    "print(max, ind)"
   ]
  },
  {
   "cell_type": "code",
   "execution_count": null,
   "metadata": {},
   "outputs": [],
   "source": [
    "# sherenga lineup\n",
    "list = [int(num) for num in input().split()]\n",
    "height = int(input())\n",
    "leng = len(list)\n",
    "# if right1 >= x ok; if left < and right <= -ok\n",
    "for i in range(leng):\n",
    "    if i < leng:# - 1\n",
    "        if list[i] < height:\n",
    "            break\n",
    "    if i == leng - 1:\n",
    "        i += 1\n",
    "#    if i > 0:\n",
    "#        if list[i - 1] > height and list[i+1] < height:\n",
    " #            break\n",
    "print(i + 1)"
   ]
  },
  {
   "cell_type": "code",
   "execution_count": null,
   "metadata": {},
   "outputs": [],
   "source": [
    "#  amount of different elements\n",
    "list = [int(num) for num in input().split()]\n",
    "leng = len(list)\n",
    "d = 1\n",
    "for i in range(leng):\n",
    "    if i > 0:\n",
    "        if list[i] != list[i - 1]:\n",
    "            d += 1\n",
    "print(d)"
   ]
  },
  {
   "cell_type": "code",
   "execution_count": null,
   "metadata": {},
   "outputs": [],
   "source": [
    "#  swap neighboutr pairs\n",
    "list = [int(num) for num in input().split()]\n",
    "leng = len(list)\n",
    "# take 0 1, 2-3, 4-5\n",
    "t = 0\n",
    "for i in range(0, leng, 2):\n",
    "    #print(\"i=\",i)\n",
    "    if i < leng - 1:\n",
    "        t = list[i]\n",
    "        list[i] = list[i + 1]\n",
    "        list[i + 1] = t\n",
    "        print(list[i], list[i + 1], end=\" \")#, i)\n",
    "    else:\n",
    "        print(list[i])\n",
    "    i += 2\n",
    "        #print(list[i-1], list[i])\n",
    "\n",
    "#print()\n",
    "# 4 focusd wrk! cleann ese"
   ]
  },
  {
   "cell_type": "code",
   "execution_count": null,
   "metadata": {},
   "outputs": [],
   "source": [
    "# swap min max\n",
    "# def mins:\n",
    "list = [int(num) for num in input().split()]\n",
    "leng = len(list)\n",
    "min = list[0]\n",
    "max = min\n",
    "il = 0;\n",
    "ib = 0\n",
    "for i in range(1, leng):\n",
    "    if list[i] < min:\n",
    "        min = list[i]\n",
    "        il = i\n",
    "    if list[i] > max:\n",
    "        max = list[i]\n",
    "        ib = i\n",
    "t = list[ib]\n",
    "list[ib] = list[il]\n",
    "list[il] = t\n",
    "#print(il,ib) #ibi l if not assigned?\n",
    "# print cycled\n",
    "for i in range(leng):\n",
    "    print(list[i], end=\" \")"
   ]
  },
  {
   "cell_type": "code",
   "execution_count": 4,
   "metadata": {},
   "outputs": [
    {
     "name": "stdout",
     "output_type": "stream",
     "text": [
      "Object `pop()` not found.\n"
     ]
    }
   ],
   "source": [
    "# remove pop\n",
    "list = [int(num) for num in input().split()]\n",
    "k = int(input())\n",
    "leng = len(list)\n",
    "min = list[0]\n",
    "max = min\n",
    "il = 0\n",
    "ib = 0\n",
    "#for i in range(leng):\n",
    "#    if i == k:\n",
    "list.pop(k)\n",
    "print(list)"
   ]
  },
  {
   "cell_type": "code",
   "execution_count": null,
   "metadata": {},
   "outputs": [],
   "source": [
    "#  pop.2\n",
    "list = [int(num) for num in input().split()]\n",
    "k = int(input())\n",
    "leng = len(list)\n",
    "min = list[0]\n",
    "max = min\n",
    "il = 0\n",
    "ib = 0\n",
    "#for i in range(leng):\n",
    "#    if i == k:\n",
    "list.pop(k)\n",
    "for i in list:\n",
    "    print(i)#rangeleng->print listi->fail\n",
    "#print(list)"
   ]
  },
  {
   "cell_type": "code",
   "execution_count": 5,
   "metadata": {},
   "outputs": [
    {
     "name": "stdout",
     "output_type": "stream",
     "text": [
      "10\n",
      "1\n"
     ]
    }
   ],
   "source": [
    "# pop3 without parameter\n",
    "list = [int(num) for num in input().split()]\n",
    "k = int(input())\n",
    "leng = len(list)\n",
    "for i in range(leng):\n",
    "    if i >= k and i < leng - 1:\n",
    "        t = list[i+1]\n",
    "        list[i] = list[i+1]\n",
    "list.pop()\n",
    "for i in list:\n",
    "    print(i, end=\" \")#rangeleng->print listi->fail\n",
    "#print(list)"
   ]
  },
  {
   "cell_type": "code",
   "execution_count": null,
   "metadata": {},
   "outputs": [],
   "source": [
    "# pop element insert\n",
    "list = [int(num) for num in input().split()]\n",
    "kc = [int(num) for num in input().split()]\n",
    "k = kc[0]\n",
    "c = kc[1]\n",
    "list.append(0)\n",
    "leng = len(list)\n",
    "for i in range(leng - 1, k, -1):\n",
    "    list[i] = list[i-1]\n",
    "list[k] = c\n",
    "for i in list:\n",
    "    print(i, end=\" \")#rangeleng->print listi->fail"
   ]
  },
  {
   "cell_type": "code",
   "execution_count": null,
   "metadata": {},
   "outputs": [],
   "source": [
    "# find overlap according same\n",
    "list = [int(num) for num in input().split()]\n",
    "leng = len(list)\n",
    "d = 0\n",
    "for i in range(leng):\n",
    "    for j in range(i + 1, leng):\n",
    "        if list[j] == list[i]:\n",
    "            d += 1\n",
    "#    c += 1\n",
    "print(d)"
   ]
  },
  {
   "cell_type": "code",
   "execution_count": null,
   "metadata": {},
   "outputs": [],
   "source": [
    "# unique s\n",
    "list = [int(num) for num in input().split()]\n",
    "leng = len(list)\n",
    "for i in range(leng):\n",
    "    d = 0\n",
    "    for j in range(0, leng):\n",
    "        if i != j and list[j] == list[i]:\n",
    "            d += 1\n",
    "    if not d:\n",
    "        print(list[i], end=\" \")\n",
    "#    c += 1\n",
    "#print(\"\\nd\", d)"
   ]
  },
  {
   "cell_type": "code",
   "execution_count": null,
   "metadata": {},
   "outputs": [],
   "source": []
  }
 ],
 "metadata": {
  "kernelspec": {
   "display_name": "Python 3",
   "language": "python",
   "name": "python3"
  },
  "language_info": {
   "codemirror_mode": {
    "name": "ipython",
    "version": 3
   },
   "file_extension": ".py",
   "mimetype": "text/x-python",
   "name": "python",
   "nbconvert_exporter": "python",
   "pygments_lexer": "ipython3",
   "version": "3.8.3"
  }
 },
 "nbformat": 4,
 "nbformat_minor": 4
}

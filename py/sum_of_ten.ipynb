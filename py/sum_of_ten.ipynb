{
 "cells": [
  {
   "cell_type": "code",
   "execution_count": null,
   "metadata": {},
   "outputs": [],
   "source": [
    "a = [None] * 10 #[] * 5#[]#int[10]\n",
    "for i in range(10): #(11):\n",
    "    if (i > 0):\n",
    "        c = a[i-1]\n",
    "        print(i, c)\n",
    "        a[i] = int(input()) + c #a[i - 1]\n",
    "    if (i == 9):\n",
    "        print(a[i], \"=sum\")\n",
    "    else:\n",
    "        a[i] = int(input())\n",
    "        print(a[i])\n",
    "    #if i == 0:\n",
    "    #    print(a[i])/"
   ]
  },
  {
   "cell_type": "code",
   "execution_count": null,
   "metadata": {},
   "outputs": [],
   "source": [
    "a = [None] * 10 #[] * 5#[]#int[10]\n",
    "for i in range(10): #(11):\n",
    "    if (i > 0):\n",
    "        c = a[i-1]\n",
    "        print(i, c)\n",
    "        a[i] = int(input()) + c #a[i - 1]\n",
    "    if (i == 9):\n",
    "        print(a[i], \"=sum\")\n",
    "    else:\n",
    "        a[i] = int(input())\n",
    "        print(a[i])\n",
    "    #if i == 0:\n",
    "    #    print(a[i])/"
   ]
  },
  {
   "cell_type": "code",
   "execution_count": 3,
   "metadata": {},
   "outputs": [
    {
     "name": "stdout",
     "output_type": "stream",
     "text": [
      "12\n",
      "1 12\n",
      "32\n",
      "44 =sum\n",
      "2 44\n",
      "r\n"
     ]
    },
    {
     "ename": "ValueError",
     "evalue": "invalid literal for int() with base 10: 'r'",
     "output_type": "error",
     "traceback": [
      "\u001b[0;31m---------------------------------------------------------------------------\u001b[0m",
      "\u001b[0;31mValueError\u001b[0m                                Traceback (most recent call last)",
      "\u001b[0;32m<ipython-input-3-dcfa51d3e6d4>\u001b[0m in \u001b[0;36m<module>\u001b[0;34m\u001b[0m\n\u001b[1;32m      4\u001b[0m         \u001b[0mc\u001b[0m \u001b[0;34m=\u001b[0m \u001b[0ma\u001b[0m\u001b[0;34m[\u001b[0m\u001b[0mi\u001b[0m\u001b[0;34m-\u001b[0m\u001b[0;36m1\u001b[0m\u001b[0;34m]\u001b[0m\u001b[0;34m\u001b[0m\u001b[0;34m\u001b[0m\u001b[0m\n\u001b[1;32m      5\u001b[0m         \u001b[0mprint\u001b[0m\u001b[0;34m(\u001b[0m\u001b[0mi\u001b[0m\u001b[0;34m,\u001b[0m \u001b[0mc\u001b[0m\u001b[0;34m)\u001b[0m\u001b[0;34m\u001b[0m\u001b[0;34m\u001b[0m\u001b[0m\n\u001b[0;32m----> 6\u001b[0;31m         \u001b[0ma\u001b[0m\u001b[0;34m[\u001b[0m\u001b[0mi\u001b[0m\u001b[0;34m]\u001b[0m \u001b[0;34m=\u001b[0m \u001b[0mint\u001b[0m\u001b[0;34m(\u001b[0m\u001b[0minput\u001b[0m\u001b[0;34m(\u001b[0m\u001b[0;34m)\u001b[0m\u001b[0;34m)\u001b[0m \u001b[0;34m+\u001b[0m \u001b[0mc\u001b[0m \u001b[0;31m#a[i - 1]\u001b[0m\u001b[0;34m\u001b[0m\u001b[0;34m\u001b[0m\u001b[0m\n\u001b[0m\u001b[1;32m      7\u001b[0m         \u001b[0mprint\u001b[0m\u001b[0;34m(\u001b[0m\u001b[0ma\u001b[0m\u001b[0;34m[\u001b[0m\u001b[0mi\u001b[0m\u001b[0;34m]\u001b[0m\u001b[0;34m,\u001b[0m \u001b[0;34m\"=sum\"\u001b[0m\u001b[0;34m)\u001b[0m\u001b[0;34m\u001b[0m\u001b[0;34m\u001b[0m\u001b[0m\n\u001b[1;32m      8\u001b[0m     \u001b[0;32mif\u001b[0m \u001b[0;34m(\u001b[0m\u001b[0mi\u001b[0m \u001b[0;34m==\u001b[0m \u001b[0;36m9\u001b[0m\u001b[0;34m)\u001b[0m\u001b[0;34m:\u001b[0m\u001b[0;34m\u001b[0m\u001b[0;34m\u001b[0m\u001b[0m\n",
      "\u001b[0;31mValueError\u001b[0m: invalid literal for int() with base 10: 'r'"
     ]
    }
   ],
   "source": [
    "a = [0] * 10 #[] * 5#[]#int[10]\n",
    "for i in range(10): #(11):\n",
    "    if (i > 0):\n",
    "        c = a[i-1]\n",
    "        print(i, c)\n",
    "        a[i] = int(input()) + c #a[i - 1]\n",
    "        print(a[i], \"=sum\")\n",
    "    if (i == 9):\n",
    "        print(a[i], \"=sum\")\n",
    "    if (i == 0):\n",
    "        a[i] = int(input())\n",
    "        # print(a[i])\n",
    "    #if i == 0:\n",
    "    #    print(a[i])"
   ]
  },
  {
   "cell_type": "code",
   "execution_count": 4,
   "metadata": {},
   "outputs": [
    {
     "name": "stdout",
     "output_type": "stream",
     "text": [
      "I== 0\n",
      "12031\n",
      "I== 1\n",
      "1 12031\n",
      "1\n",
      "12032 =sum\n",
      "I== 2\n",
      "2 12032\n",
      "1\n",
      "12033 =sum\n",
      "I== 3\n",
      "3 12033\n",
      "1\n",
      "12034 =sum\n",
      "I== 4\n",
      "4 12034\n",
      "1\n",
      "12035 =sum\n",
      "I== 5\n",
      "5 12035\n",
      "1\n",
      "12036 =sum\n",
      "I== 6\n",
      "6 12036\n",
      "1\n",
      "12037 =sum\n",
      "I== 7\n",
      "7 12037\n",
      "1\n",
      "12038 =sum\n",
      "I== 8\n",
      "8 12038\n",
      "1\n",
      "12039 =sum\n",
      "I== 9\n",
      "9 12039\n",
      "1\n",
      "12040 =sum\n",
      "12040 =sum\n"
     ]
    }
   ],
   "source": [
    "a = [0] * 10 #[] * 5#[]#int[10]\n",
    "for i in range(10): #(11):\n",
    "    print('I==',i)\n",
    "    if (i > 0):\n",
    "        c = a[i-1]\n",
    "        print(i, c)\n",
    "        a[i] = int(input()) + c #a[i - 1]\n",
    "        print(a[i], \"=sum\")\n",
    "    if (i == 9):\n",
    "        print(a[i], \"=sum\")\n",
    "    if (i == 0):\n",
    "        a[i] = int(input())"
   ]
  },
  {
   "cell_type": "code",
   "execution_count": null,
   "metadata": {},
   "outputs": [],
   "source": []
  }
 ],
 "metadata": {
  "kernelspec": {
   "display_name": "Python 3",
   "language": "python",
   "name": "python3"
  },
  "language_info": {
   "codemirror_mode": {
    "name": "ipython",
    "version": 3
   },
   "file_extension": ".py",
   "mimetype": "text/x-python",
   "name": "python",
   "nbconvert_exporter": "python",
   "pygments_lexer": "ipython3",
   "version": "3.8.3"
  }
 },
 "nbformat": 4,
 "nbformat_minor": 4
}

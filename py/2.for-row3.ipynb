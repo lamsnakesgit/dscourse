{
 "cells": [
  {
   "cell_type": "code",
   "execution_count": 1,
   "metadata": {},
   "outputs": [
    {
     "name": "stdout",
     "output_type": "stream",
     "text": [
      "7\n",
      "1\n"
     ]
    }
   ],
   "source": [
    "a = int(input())\n",
    "b = int(input())\n",
    "c = 0\n",
    "for i in range(a,b - 1):\n",
    "    #c = a % 2 + 1\n",
    "    i = i - (a % 2) -1\n",
    "    print (i, end = \" \")\n",
    "# 10,1 step = 1, 10-0(9 7 5 3 1) -- -1/-1+1 --\n",
    "# 7,0 7-1(7,5,3,1) \n",
    "# 6,5 6-6; ->5; -1 last step "
   ]
  },
  {
   "cell_type": "code",
   "execution_count": 3,
   "metadata": {},
   "outputs": [
    {
     "name": "stdout",
     "output_type": "stream",
     "text": [
      "3\n",
      "2\n",
      "1-CC\n",
      "1-T\n",
      "1 \n"
     ]
    }
   ],
   "source": [
    "a = int(input())\n",
    "b = int(input())\n",
    "c = 0\n",
    "t = 0\n",
    "for i in range(a,b - 0, -1):\n",
    "    #c = a % 2 + 1\n",
    "    c = i % 2\n",
    "    print(c, \"CC\", sep = \"-\")\n",
    "    t = i - c - 1\n",
    "    print(t, \"T\", sep=\"-\")\n",
    "    i = i - (i % 2) -1\n",
    "    print (i, end = \" \\n\")\n",
    "# 10,1 step = 1, 10-0(9 7 5 3 1) -- -1/-1+1 --\n",
    "# 7,0 7-1(7,5,3,1) \n",
    "# 6,5 6-6; ->5; -1 last step "
   ]
  },
  {
   "cell_type": "code",
   "execution_count": 11,
   "metadata": {},
   "outputs": [
    {
     "name": "stdout",
     "output_type": "stream",
     "text": [
      "5\n",
      "1\n",
      "5 3 1 "
     ]
    }
   ],
   "source": [
    "a = int(input())\n",
    "b = int(input())\n",
    "for i in range(a - (a - 1) % 2,b - b % 2, -2):\n",
    "    print (i, end = \" \")\n",
    "    "
   ]
  },
  {
   "cell_type": "code",
   "execution_count": null,
   "metadata": {},
   "outputs": [],
   "source": []
  },
  {
   "cell_type": "code",
   "execution_count": null,
   "metadata": {},
   "outputs": [],
   "source": []
  },
  {
   "cell_type": "code",
   "execution_count": null,
   "metadata": {},
   "outputs": [],
   "source": []
  }
 ],
 "metadata": {
  "kernelspec": {
   "display_name": "Python 3",
   "language": "python",
   "name": "python3"
  },
  "language_info": {
   "codemirror_mode": {
    "name": "ipython",
    "version": 3
   },
   "file_extension": ".py",
   "mimetype": "text/x-python",
   "name": "python",
   "nbconvert_exporter": "python",
   "pygments_lexer": "ipython3",
   "version": "3.8.3"
  }
 },
 "nbformat": 4,
 "nbformat_minor": 4
}

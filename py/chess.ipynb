{
 "cells": [
  {
   "cell_type": "code",
   "execution_count": 2,
   "metadata": {},
   "outputs": [
    {
     "name": "stdout",
     "output_type": "stream",
     "text": [
      "1\n",
      "1\n",
      "2\n",
      "1\n",
      "NO\n"
     ]
    }
   ],
   "source": [
    "#Задача «Шахматная доска»\n",
    "#Условие\n",
    "#Заданы две клетки шахматной доски. Если они покрашены в один цвет, то выведите слово YES, а если в разные цвета — то NO. Программа получает на вход четыре числа от 1 до 8 каждое, задающие номер столбца и номер строки сначала для первой клетки, потом для второй клетки.\n",
    "av = int(input())\n",
    "ah = int(input())\n",
    "bv = int(input())\n",
    "bh = int(input())\n",
    "a = 1\n",
    "b = 1\n",
    "if av % 2 == 0 and ah % 2 == 0 or av % 2 == 1 and ah % 2 == 1:\n",
    "    a = 0\n",
    "#    print (\"YESch\")\n",
    "if bv % 2 == 0 and bh % 2 == 0 or bv % 2 == 1 and bh % 2 == 1:\n",
    "    b = 0\n",
    "if a == b: # both even or both not even -> same color. equal\n",
    "    print(\"YES\")\n",
    "else:\n",
    "    print(\"NO\")"
   ]
  },
  {
   "cell_type": "code",
   "execution_count": null,
   "metadata": {},
   "outputs": [],
   "source": []
  }
 ],
 "metadata": {
  "kernelspec": {
   "display_name": "Python 3",
   "language": "python",
   "name": "python3"
  },
  "language_info": {
   "codemirror_mode": {
    "name": "ipython",
    "version": 3
   },
   "file_extension": ".py",
   "mimetype": "text/x-python",
   "name": "python",
   "nbconvert_exporter": "python",
   "pygments_lexer": "ipython3",
   "version": "3.8.3"
  }
 },
 "nbformat": 4,
 "nbformat_minor": 4
}

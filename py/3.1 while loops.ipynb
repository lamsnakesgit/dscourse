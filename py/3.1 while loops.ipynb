{
 "cells": [
  {
   "cell_type": "code",
   "execution_count": null,
   "metadata": {},
   "outputs": [],
   "source": [
    "# list of squares\n",
    "n = int(input())\n",
    "i = 1\n",
    "#c = 1\n",
    "while i <= n:# in range(1, n + 1):\n",
    "    #c = 1\n",
    "    e = 0\n",
    "    while e <= i:\n",
    "        if e * e == i:\n",
    "            print (i, end=' ')\n",
    "        e += 1\n",
    "    i += 1"
   ]
  },
  {
   "cell_type": "code",
   "execution_count": null,
   "metadata": {},
   "outputs": [],
   "source": []
  },
  {
   "cell_type": "code",
   "execution_count": null,
   "metadata": {},
   "outputs": [],
   "source": [
    "# natural dividers\n",
    "n = int(input())\n",
    "e = 2\n",
    "while e <= n:\n",
    "    if n % e == 0:\n",
    "        print(e, end=' ')\n",
    "        break\n",
    "    e += 1\n"
   ]
  },
  {
   "cell_type": "code",
   "execution_count": null,
   "metadata": {},
   "outputs": [],
   "source": []
  },
  {
   "cell_type": "code",
   "execution_count": 3,
   "metadata": {},
   "outputs": [
    {
     "name": "stdout",
     "output_type": "stream",
     "text": [
      "15431543\n"
     ]
    },
    {
     "ename": "KeyboardInterrupt",
     "evalue": "",
     "output_type": "error",
     "traceback": [
      "\u001b[0;31m---------------------------------------------------------------------------\u001b[0m",
      "\u001b[0;31mKeyboardInterrupt\u001b[0m                         Traceback (most recent call last)",
      "\u001b[0;32m<ipython-input-3-b0975815de3b>\u001b[0m in \u001b[0;36m<module>\u001b[0;34m\u001b[0m\n\u001b[1;32m      3\u001b[0m \u001b[0mi\u001b[0m \u001b[0;34m=\u001b[0m \u001b[0;36m0\u001b[0m \u001b[0;31m# 1\u001b[0m\u001b[0;34m\u001b[0m\u001b[0;34m\u001b[0m\u001b[0m\n\u001b[1;32m      4\u001b[0m \u001b[0;32mwhile\u001b[0m \u001b[0mi\u001b[0m \u001b[0;34m<=\u001b[0m \u001b[0mn\u001b[0m\u001b[0;34m:\u001b[0m\u001b[0;34m\u001b[0m\u001b[0;34m\u001b[0m\u001b[0m\n\u001b[0;32m----> 5\u001b[0;31m     \u001b[0;32mif\u001b[0m \u001b[0;36m2\u001b[0m \u001b[0;34m**\u001b[0m \u001b[0mi\u001b[0m \u001b[0;34m<=\u001b[0m \u001b[0mn\u001b[0m\u001b[0;34m:\u001b[0m\u001b[0;34m\u001b[0m\u001b[0;34m\u001b[0m\u001b[0m\n\u001b[0m\u001b[1;32m      6\u001b[0m         \u001b[0;31m#print(i, 2**i,'x=2**i')\u001b[0m\u001b[0;34m\u001b[0m\u001b[0;34m\u001b[0m\u001b[0;34m\u001b[0m\u001b[0m\n\u001b[1;32m      7\u001b[0m         \u001b[0me\u001b[0m \u001b[0;34m=\u001b[0m \u001b[0mi\u001b[0m\u001b[0;34m\u001b[0m\u001b[0;34m\u001b[0m\u001b[0m\n",
      "\u001b[0;31mKeyboardInterrupt\u001b[0m: "
     ]
    }
   ],
   "source": [
    "n = int(input())\n",
    "e = n\n",
    "i = 0 # 1\n",
    "while i <= n:\n",
    "    if 2 ** i <= n:\n",
    "        #print(i, 2**i,'x=2**i')\n",
    "        e = i\n",
    "    i += 1\n",
    "print(e,2**e) #e**2@"
   ]
  },
  {
   "cell_type": "code",
   "execution_count": null,
   "metadata": {},
   "outputs": [],
   "source": []
  },
  {
   "cell_type": "code",
   "execution_count": null,
   "metadata": {},
   "outputs": [],
   "source": [
    "# morn run\n",
    "x = int(input())\n",
    "y = int(input())\n",
    "d = x\n",
    "i = 1\n",
    "while d < y:\n",
    "    d = d + d * 10 / 100 # / - 21. .. // - 20\n",
    "    #print(d)\n",
    "    i += 1\n",
    "print(i)\n"
   ]
  },
  {
   "cell_type": "code",
   "execution_count": null,
   "metadata": {},
   "outputs": [],
   "source": []
  },
  {
   "cell_type": "code",
   "execution_count": null,
   "metadata": {},
   "outputs": [],
   "source": [
    "\n",
    "i = 0\n",
    "while 1:\n",
    "    x = int(input())\n",
    "    if x == 0:\n",
    "        break\n",
    "    i += 1\n",
    "print(i)"
   ]
  },
  {
   "cell_type": "code",
   "execution_count": null,
   "metadata": {},
   "outputs": [],
   "source": []
  },
  {
   "cell_type": "code",
   "execution_count": null,
   "metadata": {},
   "outputs": [],
   "source": []
  },
  {
   "cell_type": "code",
   "execution_count": null,
   "metadata": {},
   "outputs": [],
   "source": []
  },
  {
   "cell_type": "code",
   "execution_count": null,
   "metadata": {},
   "outputs": [],
   "source": [
    "i = 0\n",
    "s = 0\n",
    "while 1:\n",
    "    x = int(input())\n",
    "    if x == 0:\n",
    "        break\n",
    "    s = s + x\n",
    "    i += 1\n",
    "print(s/i)"
   ]
  },
  {
   "cell_type": "code",
   "execution_count": null,
   "metadata": {},
   "outputs": [],
   "source": []
  },
  {
   "cell_type": "code",
   "execution_count": null,
   "metadata": {},
   "outputs": [],
   "source": [
    "# ind of max\n",
    "i = 0\n",
    "s = 0\n",
    "mi = 0\n",
    "while 1:\n",
    "    x = int(input())\n",
    "    if x == 0:\n",
    "        break\n",
    "    elif x > s:\n",
    "        s = x\n",
    "        mi = i\n",
    "    #elif x == s:\n",
    "    #    break\n",
    "    i += 1\n",
    "print(mi)"
   ]
  },
  {
   "cell_type": "code",
   "execution_count": null,
   "metadata": {},
   "outputs": [],
   "source": []
  },
  {
   "cell_type": "code",
   "execution_count": null,
   "metadata": {},
   "outputs": [],
   "source": [
    "# seqg increase neigb\n",
    "i = 0\n",
    "s = 0\n",
    "mi = 0\n",
    "p = int(input())\n",
    "#while () == 1:\n",
    "while 1:\n",
    "    x = int(input())\n",
    "    if x == 0:\n",
    "        break\n",
    "    if x > p:\n",
    "        mi += 1\n",
    "    p = x\n",
    "    i += 1\n",
    "print(mi)"
   ]
  },
  {
   "cell_type": "code",
   "execution_count": null,
   "metadata": {},
   "outputs": [],
   "source": []
  },
  {
   "cell_type": "code",
   "execution_count": null,
   "metadata": {},
   "outputs": [],
   "source": [
    "# sec max\n",
    "#i = 0\n",
    "sm = int(input())\n",
    "max = int(input())\n",
    "t = 0\n",
    "if sm > max:\n",
    "    t = max\n",
    "    max = sm\n",
    "    sm = t\n",
    "# print(sm,max)\n",
    "while 1:\n",
    "    x = int(input())\n",
    "    if x == 0:\n",
    "        break\n",
    "    #if i >= 1:\n",
    "    if x > max:\n",
    "    #    sm = max\n",
    "    #    max = x\n",
    "        sm = max\n",
    "        max = x\n",
    "    elif x > sm:\n",
    "        sm = x\n",
    "    #i += 1\n",
    "print(sm)"
   ]
  },
  {
   "cell_type": "code",
   "execution_count": null,
   "metadata": {},
   "outputs": [],
   "source": []
  },
  {
   "cell_type": "code",
   "execution_count": null,
   "metadata": {},
   "outputs": [],
   "source": [
    "# \n",
    "i = 1\n",
    "max = 0\n",
    "a = []\n",
    "while 1:\n",
    "    x = int(input())\n",
    "    if x == 0:\n",
    "        break\n",
    "    a.append(x)\n",
    "    if x > max:\n",
    "        max = x\n",
    "c = 0\n",
    "i = 0 #mbdc\n",
    "#while i in range(len(a)):#epic\n",
    "while i < len(a):\n",
    "    if a[i] == max:\n",
    "        c += 1\n",
    "    i += 1\n",
    "print(c)"
   ]
  },
  {
   "cell_type": "code",
   "execution_count": null,
   "metadata": {},
   "outputs": [],
   "source": []
  },
  {
   "cell_type": "code",
   "execution_count": null,
   "metadata": {},
   "outputs": [],
   "source": [
    "# fibonacci n index\n",
    "n = int(input())\n",
    "f = 1\n",
    "if n == 0:\n",
    "    f = 0\n",
    "elif n == 1:\n",
    "    f = 1\n",
    "else:\n",
    "    pp = 0\n",
    "    p = 1\n",
    "    i = 2\n",
    "    while i <= n:\n",
    "        f = pp + p\n",
    "        #p = pp\n",
    "        #pp = i#f#i\n",
    "        pp = p\n",
    "        p = f\n",
    "        i += 1\n",
    "    #    print(pp,p)\n",
    "print(f)"
   ]
  },
  {
   "cell_type": "code",
   "execution_count": null,
   "metadata": {},
   "outputs": [],
   "source": [
    "# fibonacci multiple equation\n",
    "n = int(input())\n",
    "f = 1\n",
    "if n == 0:\n",
    "    f = 0\n",
    "elif n == 1:\n",
    "    f = 1\n",
    "else:\n",
    "    pp = 0\n",
    "    p = 1\n",
    "    i = 2\n",
    "    while i <= n:\n",
    "        f, pp = pp + p, p\n",
    "        #pp = p\n",
    "        p = f\n",
    "        i += 1\n",
    "print(f)"
   ]
  },
  {
   "cell_type": "code",
   "execution_count": null,
   "metadata": {},
   "outputs": [],
   "source": []
  },
  {
   "cell_type": "code",
   "execution_count": null,
   "metadata": {},
   "outputs": [],
   "source": []
  },
  {
   "cell_type": "code",
   "execution_count": null,
   "metadata": {},
   "outputs": [],
   "source": []
  },
  {
   "cell_type": "code",
   "execution_count": null,
   "metadata": {},
   "outputs": [],
   "source": []
  }
 ],
 "metadata": {
  "kernelspec": {
   "display_name": "Python 3",
   "language": "python",
   "name": "python3"
  },
  "language_info": {
   "codemirror_mode": {
    "name": "ipython",
    "version": 3
   },
   "file_extension": ".py",
   "mimetype": "text/x-python",
   "name": "python",
   "nbconvert_exporter": "python",
   "pygments_lexer": "ipython3",
   "version": "3.8.3"
  }
 },
 "nbformat": 4,
 "nbformat_minor": 4
}
